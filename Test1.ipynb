{
 "cells": [
  {
   "cell_type": "code",
   "execution_count": 1,
   "id": "a2fe5f2a-885d-4445-893a-ce4d679f6192",
   "metadata": {},
   "outputs": [],
   "source": [
    "import torch\n",
    "import time\n",
    "import numpy as np\n",
    "import subprocess\n",
    "import yaml\n",
    "from itertools import product\n",
    "import random\n",
    "import math\n",
    "import matplotlib.pyplot as plt\n",
    "import gc\n",
    "import pandas as pd\n",
    "import logging"
   ]
  },
  {
   "cell_type": "code",
   "execution_count": 2,
   "id": "2916505e-ffab-4541-8a03-754b6b390457",
   "metadata": {},
   "outputs": [],
   "source": [
    "logging.basicConfig(\n",
    "    level=logging.DEBUG,\n",
    "    format=\"%(asctime)s - %(levelname)s - %(message)s\",\n",
    "    force=True)"
   ]
  },
  {
   "cell_type": "code",
   "execution_count": 3,
   "id": "3b29c92f-5e9a-41f2-8e6c-0c0e2b19e64b",
   "metadata": {},
   "outputs": [
    {
     "name": "stderr",
     "output_type": "stream",
     "text": [
      "2025-10-22 18:34:55,016 - INFO - Cuda is available\n"
     ]
    }
   ],
   "source": [
    "if torch.cuda.is_available() == False:\n",
    "    raise RuntimeError(\"Cuda is not available!\")\n",
    "else:\n",
    "    logging.info(\"Cuda is available\")\n",
    "device = 'cuda'"
   ]
  },
  {
   "cell_type": "code",
   "execution_count": 4,
   "id": "25d98eb1-ce52-4955-ad13-00c597c44356",
   "metadata": {},
   "outputs": [],
   "source": [
    "def get_power_limit():\n",
    "    result = subprocess.run([\"nvidia-smi\", \"--query-gpu=power.limit\", \"--format=csv\"], capture_output=True, text=True)\n",
    "    logging.debug(f\"Result in get_power_limit():\\n{result.stdout}\")\n",
    "    return float(result.stdout.split('\\n')[1].split()[0])\n",
    "\n",
    "def get_sm_clock():\n",
    "    result = subprocess.run([\"nvidia-smi\", \"--query-gpu=clocks.max.sm\", \"--format=csv\"], capture_output=True, text=True)\n",
    "    logging.debug(f\"Result in get_sm_clock():\\n{result.stdout}\")\n",
    "    return float(result.stdout.split('\\n')[1].split()[0])    "
   ]
  },
  {
   "cell_type": "code",
   "execution_count": 5,
   "id": "a911bc98-6d0e-4f26-a754-b0de9520a6cc",
   "metadata": {},
   "outputs": [
    {
     "name": "stderr",
     "output_type": "stream",
     "text": [
      "2025-10-22 18:34:55,048 - INFO - sm_cores.yaml loaded successfuly\n"
     ]
    }
   ],
   "source": [
    "with open(\"sm_cores.yaml\", \"r\") as file:\n",
    "    sm_cores = yaml.safe_load(file)\n",
    "    logging.info(\"sm_cores.yaml loaded successfuly\")"
   ]
  },
  {
   "cell_type": "code",
   "execution_count": 6,
   "id": "55a6b910-c74f-446a-965f-6a513f6ba064",
   "metadata": {},
   "outputs": [
    {
     "name": "stderr",
     "output_type": "stream",
     "text": [
      "2025-10-22 18:34:55,137 - DEBUG - Result in get_power_limit():\n",
      "power.limit [W]\n",
      "220.00 W\n",
      "\n",
      "2025-10-22 18:34:55,183 - DEBUG - Result in get_sm_clock():\n",
      "clocks.max.sm [MHz]\n",
      "2160 MHz\n",
      "\n",
      "2025-10-22 18:34:55,294 - INFO - Device information:\n",
      "{'device_name': 'NVIDIA GeForce RTX 3070', 'number_of_sm': 46, 'power_limit': {'value': 220.0, 'unit': 'W'}, 'compute_capability': (8, 6), 'cores_per_sm': 128, 'sm_clock': {'value': 2160.0, 'unit': 'MHz'}, 'memory': {'value': 7.67, 'unit': 'GiB'}, 'total_number_of_cores': 5888, 'theoretical_flops': {'value': 25.44, 'unit': 'tflops', 'precision': 'float32'}}\n"
     ]
    }
   ],
   "source": [
    "props = torch.cuda.get_device_properties(0)\n",
    "\n",
    "device_information = {\n",
    "    \"device_name\": torch.cuda.get_device_name(0),\n",
    "    \"number_of_sm\": props.multi_processor_count,\n",
    "    \"power_limit\": {\n",
    "        \"value\": get_power_limit(),\n",
    "        \"unit\": \"W\"\n",
    "    },\n",
    "    \"compute_capability\": (props.major, props.minor),\n",
    "    \"cores_per_sm\": sm_cores['cuda_cores_per_sm'][f\"{props.major}.{props.minor}\"],\n",
    "    \"sm_clock\": {\n",
    "        \"value\": get_sm_clock(),\n",
    "        \"unit\": \"MHz\"\n",
    "    },\n",
    "    \"memory\": {\n",
    "        \"value\": round(torch.cuda.mem_get_info()[1] / (1024**3), 2),\n",
    "        \"unit\": \"GiB\"\n",
    "    }\n",
    "}\n",
    "device_information[\"total_number_of_cores\"] = device_information[\"number_of_sm\"] * device_information[\"cores_per_sm\"]\n",
    "device_information[\"theoretical_flops\"] = {\n",
    "    \"value\": round((device_information[\"total_number_of_cores\"] * device_information[\"sm_clock\"][\"value\"] * 2 * 1e6) / 1e12, 2),\n",
    "    \"unit\": \"tflops\",\n",
    "    \"precision\": \"float32\"\n",
    "}\n",
    "logging.info(f\"Device information:\\n{device_information}\")"
   ]
  },
  {
   "cell_type": "markdown",
   "id": "d73cb2c7-3b81-490f-b5dc-83fd4dbb9d3c",
   "metadata": {},
   "source": [
    "### Settings"
   ]
  },
  {
   "cell_type": "code",
   "execution_count": 7,
   "id": "e424efae-f3fe-4250-b0a9-59c9dcac266d",
   "metadata": {},
   "outputs": [],
   "source": [
    "dtype = torch.float16\n",
    "memory_overhead = 0.02"
   ]
  },
  {
   "cell_type": "code",
   "execution_count": 34,
   "id": "a97dd239-1f85-48e2-9482-baa6d28b8695",
   "metadata": {},
   "outputs": [],
   "source": [
    "def benchmark_gemm(M, N, K, device, dtype, n_warmup, n_repeat):\n",
    "    A = torch.rand(M, N, device = device, requires_grad=False, dtype = dtype)\n",
    "    B = torch.rand(N, K, device = device, requires_grad=False, dtype = dtype)\n",
    "    C = torch.rand(M, K, device = device, requires_grad=False, dtype = dtype)\n",
    "    \n",
    "    total_time = []\n",
    "    flops = []\n",
    "    start = torch.cuda.Event(enable_timing = True)\n",
    "    end = torch.cuda.Event(enable_timing = True)\n",
    "    \n",
    "    for i in range(n_warmup):\n",
    "        torch.mm(A, B, out=C)\n",
    "        \n",
    "    for i in range(n_repeat):    \n",
    "        start.record()\n",
    "        torch.mm(A, B, out=C)\n",
    "        end.record()\n",
    "        torch.cuda.synchronize()\n",
    "        total_time.append(start.elapsed_time(end) / 1000) # measured in seconds\n",
    "        \n",
    "        n_ops = int(2 * M * N * K)\n",
    "        flops.append(n_ops / total_time[i] / 1e12)\n",
    "\n",
    "    del A\n",
    "    del B\n",
    "    del C\n",
    "    gc.collect()\n",
    "    torch.cuda.empty_cache()\n",
    "    torch.cuda.ipc_collect()\n",
    "    torch.cuda.synchronize()    \n",
    "\n",
    "    result = {\n",
    "        \"M\": int(M),\n",
    "        \"N\": int(N),\n",
    "        \"K\": int(K),\n",
    "        \"n_ops\": int(2 * M * N * K),\n",
    "        \"time_elapsed\": total_time,\n",
    "        \"flops\": flops,\n",
    "        \"mean_flops\": float(np.array(flops).mean()),\n",
    "        \"dtype\": str(dtype)\n",
    "    }\n",
    "\n",
    "    return result"
   ]
  },
  {
   "cell_type": "code",
   "execution_count": 16,
   "id": "d90f4efe-b40a-4edb-8d9f-e2c4ebdd5645",
   "metadata": {},
   "outputs": [],
   "source": [
    "dim_size = [2 * 2**i for i in range(20)] + [3 * 2**i for i in range(20)]\n",
    "all_dims = list(product(dim_size, (torch.float32, torch.float16)))\n",
    "df = pd.DataFrame({\n",
    "    \"M\": [x[0] for x in all_dims],\n",
    "    \"N\": [x[0] for x in all_dims],\n",
    "    \"K\": [x[0] for x in all_dims],\n",
    "    \"dtype\": [x[1] for x in all_dims]\n",
    "})\n",
    "df[\"total_memory\"] = (df[\"M\"] * df[\"N\"] + df[\"N\"] * df[\"K\"] + df[\"M\"] * df[\"K\"]) * df[\"dtype\"].apply(lambda x: x.itemsize)\n",
    "df = df.loc[df[\"total_memory\"] < (device_information[\"memory\"][\"value\"] * 1024**3 / (1 + memory_overhead))]\n",
    "\n",
    "dtype_order = [torch.float16, torch.float32]\n",
    "df[\"dtype\"] = pd.Categorical(df[\"dtype\"], categories = dtype_order, ordered=True)\n",
    "df = df.sort_values(by=[\"dtype\", \"total_memory\"]).reset_index(drop=True)"
   ]
  },
  {
   "cell_type": "code",
   "execution_count": 36,
   "id": "6bf38c94-8e65-4a8d-be62-96f300bd2489",
   "metadata": {},
   "outputs": [
    {
     "name": "stdout",
     "output_type": "stream",
     "text": [
      "N: 2 dtype: torch.float16 flops: 0.00\n",
      "N: 3 dtype: torch.float16 flops: 0.00\n",
      "N: 4 dtype: torch.float16 flops: 0.00\n",
      "N: 6 dtype: torch.float16 flops: 0.00\n",
      "N: 8 dtype: torch.float16 flops: 0.00\n",
      "N: 12 dtype: torch.float16 flops: 0.00\n",
      "N: 16 dtype: torch.float16 flops: 0.00\n",
      "N: 24 dtype: torch.float16 flops: 0.00\n",
      "N: 32 dtype: torch.float16 flops: 0.00\n",
      "N: 48 dtype: torch.float16 flops: 0.01\n",
      "N: 64 dtype: torch.float16 flops: 0.03\n",
      "N: 96 dtype: torch.float16 flops: 0.08\n",
      "N: 128 dtype: torch.float16 flops: 0.21\n",
      "N: 192 dtype: torch.float16 flops: 0.70\n",
      "N: 256 dtype: torch.float16 flops: 1.60\n",
      "N: 384 dtype: torch.float16 flops: 5.64\n",
      "N: 512 dtype: torch.float16 flops: 11.64\n",
      "N: 768 dtype: torch.float16 flops: 20.99\n",
      "N: 1024 dtype: torch.float16 flops: 23.36\n",
      "N: 1536 dtype: torch.float16 flops: 29.17\n",
      "N: 2048 dtype: torch.float16 flops: 36.46\n",
      "N: 3072 dtype: torch.float16 flops: 38.97\n",
      "N: 4096 dtype: torch.float16 flops: 37.96\n",
      "N: 6144 dtype: torch.float16 flops: 44.98\n",
      "N: 8192 dtype: torch.float16 flops: 46.16\n",
      "N: 12288 dtype: torch.float16 flops: 46.78\n",
      "N: 16384 dtype: torch.float16 flops: 46.35\n",
      "N: 24576 dtype: torch.float16 flops: 46.03\n",
      "N: 32768 dtype: torch.float16 flops: 39.48\n",
      "N: 2 dtype: torch.float32 flops: 0.00\n",
      "N: 3 dtype: torch.float32 flops: 0.00\n",
      "N: 4 dtype: torch.float32 flops: 0.00\n",
      "N: 6 dtype: torch.float32 flops: 0.00\n",
      "N: 8 dtype: torch.float32 flops: 0.00\n",
      "N: 12 dtype: torch.float32 flops: 0.00\n",
      "N: 16 dtype: torch.float32 flops: 0.00\n",
      "N: 24 dtype: torch.float32 flops: 0.00\n",
      "N: 32 dtype: torch.float32 flops: 0.00\n",
      "N: 48 dtype: torch.float32 flops: 0.01\n",
      "N: 64 dtype: torch.float32 flops: 0.03\n",
      "N: 96 dtype: torch.float32 flops: 0.09\n",
      "N: 128 dtype: torch.float32 flops: 0.22\n",
      "N: 192 dtype: torch.float32 flops: 0.75\n",
      "N: 256 dtype: torch.float32 flops: 1.76\n",
      "N: 384 dtype: torch.float32 flops: 4.45\n",
      "N: 512 dtype: torch.float32 flops: 6.99\n",
      "N: 768 dtype: torch.float32 flops: 10.16\n",
      "N: 1024 dtype: torch.float32 flops: 11.65\n",
      "N: 1536 dtype: torch.float32 flops: 12.09\n",
      "N: 2048 dtype: torch.float32 flops: 10.23\n",
      "N: 3072 dtype: torch.float32 flops: 10.95\n",
      "N: 4096 dtype: torch.float32 flops: 10.96\n",
      "N: 6144 dtype: torch.float32 flops: 13.29\n",
      "N: 8192 dtype: torch.float32 flops: 13.97\n",
      "N: 12288 dtype: torch.float32 flops: 15.33\n",
      "N: 16384 dtype: torch.float32 flops: 15.93\n",
      "N: 24576 dtype: torch.float32 flops: 13.55\n"
     ]
    }
   ],
   "source": [
    "result = []\n",
    "for index in range(len(df)):\n",
    "    result.append(benchmark_gemm(\n",
    "        M = df.iloc[index].loc[\"M\"],\n",
    "        N = df.iloc[index].loc[\"N\"],\n",
    "        K = df.iloc[index].loc[\"K\"],\n",
    "        device = device,\n",
    "        dtype = df.iloc[index].loc[\"dtype\"],\n",
    "        n_warmup = 20,\n",
    "        n_repeat = 25))\n",
    "    print(f\"N: {result[-1][\"N\"]} dtype: {result[-1]['dtype']} flops: {result[-1]['mean_flops']:.2f}\")"
   ]
  },
  {
   "cell_type": "code",
   "execution_count": 38,
   "id": "358fa656-2350-47ce-ad81-dbf53e181c28",
   "metadata": {},
   "outputs": [],
   "source": [
    "with open(\"output_file.yaml\", \"w\") as file:\n",
    "    yaml.dump(result, file)"
   ]
  },
  {
   "cell_type": "code",
   "execution_count": 45,
   "id": "d783c56e-cdf3-4ebd-ba1e-d5fa829899a2",
   "metadata": {},
   "outputs": [],
   "source": [
    "n_ops = []\n",
    "flops = []\n",
    "for x in result:\n",
    "    n_ops.append(math.log2(x['N']))\n",
    "    flops.append(float(x['mean_flops']))"
   ]
  },
  {
   "cell_type": "code",
   "execution_count": 47,
   "id": "14d429fb-9402-4ffd-9fa1-ec734c1dae93",
   "metadata": {},
   "outputs": [
    {
     "data": {
      "image/png": "[encoded data removed]",
      "text/plain": [
       "<Figure size 800x500 with 1 Axes>"
      ]
     },
     "metadata": {},
     "output_type": "display_data"
    }
   ],
   "source": [
    "plt.figure(figsize=(8,5))\n",
    "plt.plot(n_ops, flops, marker='o', linestyle='')\n",
    "plt.show()"
   ]
  }
 ],
 "metadata": {
  "kernelspec": {
   "display_name": "Python 3 (ipykernel)",
   "language": "python",
   "name": "python3"
  },
  "language_info": {
   "codemirror_mode": {
    "name": "ipython",
    "version": 3
   },
   "file_extension": ".py",
   "mimetype": "text/x-python",
   "name": "python",
   "nbconvert_exporter": "python",
   "pygments_lexer": "ipython3",
   "version": "3.12.3"
  }
 },
 "nbformat": 4,
 "nbformat_minor": 5
}
