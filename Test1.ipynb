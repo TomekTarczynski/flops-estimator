{
 "cells": [
  {
   "cell_type": "code",
   "execution_count": 1,
   "id": "a2fe5f2a-885d-4445-893a-ce4d679f6192",
   "metadata": {},
   "outputs": [],
   "source": [
    "import torch\n",
    "import time\n",
    "import numpy as np\n",
    "import subprocess\n",
    "import yaml\n",
    "from itertools import product\n",
    "import random\n",
    "import math\n",
    "import matplotlib.pyplot as plt\n",
    "import gc\n",
    "import pandas as pd"
   ]
  },
  {
   "cell_type": "code",
   "execution_count": 2,
   "id": "3b29c92f-5e9a-41f2-8e6c-0c0e2b19e64b",
   "metadata": {},
   "outputs": [
    {
     "name": "stdout",
     "output_type": "stream",
     "text": [
      "cuda\n"
     ]
    }
   ],
   "source": [
    "device = 'cuda' if torch.cuda.is_available() else 'cpu'\n",
    "print(device)"
   ]
  },
  {
   "cell_type": "code",
   "execution_count": 3,
   "id": "25d98eb1-ce52-4955-ad13-00c597c44356",
   "metadata": {},
   "outputs": [],
   "source": [
    "def get_power_limit():\n",
    "    result = subprocess.run([\"nvidia-smi\", \"--query-gpu=power.limit\"], capture_output=True, text=True)\n",
    "    return float(result.stdout.split('\\n')[1].split()[0])\n",
    "\n",
    "def get_sm_clock():\n",
    "    result = subprocess.run([\"nvidia-smi\", \"--query-gpu=clocks.max.sm\"], capture_output=True, text=True)\n",
    "    return float(result.stdout.split('\\n')[1].split()[0])    "
   ]
  },
  {
   "cell_type": "code",
   "execution_count": 4,
   "id": "a911bc98-6d0e-4f26-a754-b0de9520a6cc",
   "metadata": {},
   "outputs": [],
   "source": [
    "with open(\"sm_cores.yaml\", \"r\") as file:\n",
    "    sm_cores = yaml.safe_load(file)"
   ]
  },
  {
   "cell_type": "code",
   "execution_count": 5,
   "id": "55a6b910-c74f-446a-965f-6a513f6ba064",
   "metadata": {},
   "outputs": [
    {
     "data": {
      "text/plain": [
       "24.7296"
      ]
     },
     "execution_count": 5,
     "metadata": {},
     "output_type": "execute_result"
    }
   ],
   "source": [
    "props = torch.cuda.get_device_properties(0)\n",
    "\n",
    "device_information = {\n",
    "    \"device_name\": torch.cuda.get_device_name(0),\n",
    "    \"number_of_sm\": props.multi_processor_count,\n",
    "    \"power_limit\": get_power_limit(),\n",
    "    \"compute_capability\": (props.major, props.minor),\n",
    "    \"cores_per_sm\": sm_cores['cuda_cores_per_sm'][f\"{props.major}.{props.minor}\"],\n",
    "    \"sm_clock\": get_sm_clock(),\n",
    "    \"memory\": torch.cuda.mem_get_info()[1]\n",
    "}\n",
    "device_information[\"total_number_of_cores\"] = device_information[\"number_of_sm\"] * device_information[\"cores_per_sm\"]\n",
    "device_information[\"theoretical_flops\"] = int(device_information[\"total_number_of_cores\"] * device_information[\"sm_clock\"] * 2 * 1e6)\n",
    "device_information['theoretical_flops'] / 1e12"
   ]
  },
  {
   "cell_type": "markdown",
   "id": "d73cb2c7-3b81-490f-b5dc-83fd4dbb9d3c",
   "metadata": {},
   "source": [
    "### Measure flops using events"
   ]
  },
  {
   "cell_type": "code",
   "execution_count": 55,
   "id": "e424efae-f3fe-4250-b0a9-59c9dcac266d",
   "metadata": {},
   "outputs": [],
   "source": [
    "dtype = torch.float16"
   ]
  },
  {
   "cell_type": "code",
   "execution_count": 45,
   "id": "f85a5e2b-533e-47ee-9d18-2653554a06ec",
   "metadata": {},
   "outputs": [
    {
     "data": {
      "text/plain": [
       "'torch.float32'"
      ]
     },
     "execution_count": 45,
     "metadata": {},
     "output_type": "execute_result"
    }
   ],
   "source": [
    "str(dtype)"
   ]
  },
  {
   "cell_type": "code",
   "execution_count": 6,
   "id": "13541915-484f-4aba-99cf-64d2bb523722",
   "metadata": {},
   "outputs": [],
   "source": [
    "memory_overhead = 0.02"
   ]
  },
  {
   "cell_type": "code",
   "execution_count": 46,
   "id": "a97dd239-1f85-48e2-9482-baa6d28b8695",
   "metadata": {},
   "outputs": [],
   "source": [
    "def benchmark_gemm(M, N, K, device, dtype, n_warmup, n_repeat):\n",
    "    A = torch.rand(M, N, device = device, requires_grad=False, dtype = dtype)\n",
    "    B = torch.rand(N, K, device = device, requires_grad=False, dtype = dtype)\n",
    "    C = torch.rand(M, K, device = device, requires_grad=False, dtype = dtype)\n",
    "    total_time = np.empty((n_repeat))\n",
    "    flops = np.empty((n_repeat))\n",
    "    start = torch.cuda.Event(enable_timing = True)\n",
    "    end = torch.cuda.Event(enable_timing = True)\n",
    "    \n",
    "    for i in range(n_warmup):\n",
    "        torch.mm(A, B, out=C)\n",
    "        \n",
    "    for i in range(n_repeat):    \n",
    "        start.record()\n",
    "        torch.mm(A, B, out=C)\n",
    "        end.record()\n",
    "        torch.cuda.synchronize()\n",
    "        total_time[i] = start.elapsed_time(end) / 1000 # measured in seconds\n",
    "        \n",
    "        n_ops = 2 * M * N * K\n",
    "        flops[i] = (n_ops / total_time[i] / 1e12)\n",
    "\n",
    "    del A\n",
    "    del B\n",
    "    del C\n",
    "    gc.collect()\n",
    "    torch.cuda.empty_cache()\n",
    "    torch.cuda.ipc_collect()\n",
    "    torch.cuda.synchronize()    \n",
    "\n",
    "    result = {\n",
    "        \"M\": int(M),\n",
    "        \"N\": int(N),\n",
    "        \"K\": int(K),\n",
    "        \"n_ops\": int(2 * M * N * K),\n",
    "        \"time_elapsed\": total_time,\n",
    "        \"flops\": flops,\n",
    "        \"mean_flops\": float(flops.mean()),\n",
    "        \"dtype\": str(dtype)\n",
    "    }\n",
    "\n",
    "    return result"
   ]
  },
  {
   "cell_type": "code",
   "execution_count": 63,
   "id": "d90f4efe-b40a-4edb-8d9f-e2c4ebdd5645",
   "metadata": {},
   "outputs": [],
   "source": [
    "dim_size = [4 * 2**i for i in range(20)]\n",
    "M = []\n",
    "N = []\n",
    "K = []\n",
    "all_dims = list(product(dim_size, dim_size, dim_size))\n",
    "df = pd.DataFrame({\n",
    "    \"M\": [x[0] for x in all_dims],\n",
    "    \"N\": [x[1] for x in all_dims],\n",
    "    \"K\": [x[2] for x in all_dims]})\n",
    "df[\"total_memory\"] = (df[\"M\"] * df[\"N\"] + df[\"N\"] * df[\"K\"] + df[\"M\"] * df[\"K\"]) * 4"
   ]
  },
  {
   "cell_type": "code",
   "execution_count": 64,
   "id": "d541cafd-7bcd-49fe-9517-209394f62bb7",
   "metadata": {},
   "outputs": [],
   "source": [
    "df = df.loc[df[\"total_memory\"] < device_information[\"memory\"] / (1 + memory_overhead)]\n",
    "df = df.sample(frac=0.1, random_state=42).reset_index(drop=True)"
   ]
  },
  {
   "cell_type": "code",
   "execution_count": null,
   "id": "6bf38c94-8e65-4a8d-be62-96f300bd2489",
   "metadata": {},
   "outputs": [
    {
     "name": "stdout",
     "output_type": "stream",
     "text": [
      "Iter: 0 Time elapsed:0.20 Time left: 93.23\n",
      "Iter: 50 Time elapsed:12.76 Time left: 106.37\n",
      "Iter: 100 Time elapsed:25.16 Time left: 93.43\n",
      "Iter: 150 Time elapsed:37.01 Time left: 79.65\n",
      "Iter: 200 Time elapsed:53.56 Time left: 73.28\n",
      "Iter: 250 Time elapsed:75.67 Time left: 67.84\n",
      "Iter: 300 Time elapsed:87.88 Time left: 51.09\n",
      "Iter: 350 Time elapsed:101.56 Time left: 36.17\n"
     ]
    }
   ],
   "source": [
    "result = []\n",
    "start = time.time()\n",
    "for index in range(len(df)):\n",
    "    result.append(benchmark_gemm(\n",
    "        M = df.iloc[index].loc[\"M\"],\n",
    "        N = df.iloc[index].loc[\"N\"],\n",
    "        K = df.iloc[index].loc[\"K\"],\n",
    "        device = device,\n",
    "        dtype = dtype,\n",
    "        n_warmup = 10,\n",
    "        n_repeat = 5))\n",
    "    current_time = time.time()\n",
    "    time_elapsed = current_time - start\n",
    "    time_per_iter = time_elapsed / (index + 1)\n",
    "    time_left = time_per_iter * (len(df) - index - 1)\n",
    "    if index % 50 == 0:\n",
    "        print(f\"Iter: {index} Time elapsed:{time_elapsed:.2f} Time left: {time_left:.2f}\")"
   ]
  },
  {
   "cell_type": "code",
   "execution_count": 54,
   "id": "358fa656-2350-47ce-ad81-dbf53e181c28",
   "metadata": {},
   "outputs": [],
   "source": [
    "for r in result:\n",
    "    r.pop(\"flops\", None)\n",
    "    r.pop(\"time_elapsed\", None)\n",
    "with open(\"output_file.yaml\", \"w\") as file:\n",
    "    yaml.dump(result, file)"
   ]
  },
  {
   "cell_type": "code",
   "execution_count": 59,
   "id": "d783c56e-cdf3-4ebd-ba1e-d5fa829899a2",
   "metadata": {},
   "outputs": [],
   "source": [
    "n_ops = []\n",
    "flops = []\n",
    "for x in result:\n",
    "    n_ops.append(math.log(x['n_ops']))\n",
    "    flops.append(float(x['mean_flops']))"
   ]
  },
  {
   "cell_type": "code",
   "execution_count": 60,
   "id": "14d429fb-9402-4ffd-9fa1-ec734c1dae93",
   "metadata": {},
   "outputs": [
    {
     "data": {
      "image/png": "[encoded data removed]",
      "text/plain": [
       "<Figure size 800x500 with 1 Axes>"
      ]
     },
     "metadata": {},
     "output_type": "display_data"
    }
   ],
   "source": [
    "plt.figure(figsize=(8,5))\n",
    "plt.plot(n_ops, flops, marker='o', linestyle='')\n",
    "plt.show()"
   ]
  }
 ],
 "metadata": {
  "kernelspec": {
   "display_name": "Python 3 (ipykernel)",
   "language": "python",
   "name": "python3"
  },
  "language_info": {
   "codemirror_mode": {
    "name": "ipython",
    "version": 3
   },
   "file_extension": ".py",
   "mimetype": "text/x-python",
   "name": "python",
   "nbconvert_exporter": "python",
   "pygments_lexer": "ipython3",
   "version": "3.12.3"
  }
 },
 "nbformat": 4,
 "nbformat_minor": 5
}
