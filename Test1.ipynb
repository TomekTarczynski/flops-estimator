{
 "cells": [
  {
   "cell_type": "code",
   "execution_count": 170,
   "id": "a2fe5f2a-885d-4445-893a-ce4d679f6192",
   "metadata": {},
   "outputs": [],
   "source": [
    "import torch\n",
    "import time\n",
    "import numpy as np\n",
    "import subprocess\n",
    "import yaml\n",
    "from itertools import product\n",
    "import random\n",
    "import math\n",
    "import matplotlib.pyplot as plt"
   ]
  },
  {
   "cell_type": "code",
   "execution_count": 97,
   "id": "3b29c92f-5e9a-41f2-8e6c-0c0e2b19e64b",
   "metadata": {},
   "outputs": [
    {
     "name": "stdout",
     "output_type": "stream",
     "text": [
      "cuda\n"
     ]
    }
   ],
   "source": [
    "device = 'cuda' if torch.cuda.is_available() else 'cpu'\n",
    "print(device)\n"
   ]
  },
  {
   "cell_type": "code",
   "execution_count": 116,
   "id": "25d98eb1-ce52-4955-ad13-00c597c44356",
   "metadata": {},
   "outputs": [],
   "source": [
    "def get_power_limit():\n",
    "    result = subprocess.run([\"nvidia-smi\", \"--query-gpu=power.limit\"], capture_output=True, text=True)\n",
    "    return float(result.stdout.split('\\n')[1].split()[0])\n",
    "\n",
    "def get_sm_clock():\n",
    "    result = subprocess.run([\"nvidia-smi\", \"--query-gpu=clocks.max.sm\"], capture_output=True, text=True)\n",
    "    return float(result.stdout.split('\\n')[1].split()[0])    "
   ]
  },
  {
   "cell_type": "code",
   "execution_count": 117,
   "id": "9ceb81e1-d87a-4b5f-b083-9cd52f1be903",
   "metadata": {},
   "outputs": [
    {
     "data": {
      "text/plain": [
       "2100.0"
      ]
     },
     "execution_count": 117,
     "metadata": {},
     "output_type": "execute_result"
    }
   ],
   "source": [
    "get_sm_clock()"
   ]
  },
  {
   "cell_type": "code",
   "execution_count": 100,
   "id": "a911bc98-6d0e-4f26-a754-b0de9520a6cc",
   "metadata": {},
   "outputs": [
    {
     "data": {
      "text/plain": [
       "{'cuda_cores_per_sm': {'2.0': 32,\n",
       "  '2.1': 48,\n",
       "  '3.0': 192,\n",
       "  '3.2': 192,\n",
       "  '3.5': 192,\n",
       "  '3.7': 192,\n",
       "  '5.0': 128,\n",
       "  '5.2': 128,\n",
       "  '5.3': 128,\n",
       "  '6.0': 64,\n",
       "  '6.1': 128,\n",
       "  '6.2': 128,\n",
       "  '7.0': 64,\n",
       "  '7.2': 64,\n",
       "  '7.5': 64,\n",
       "  '8.0': 128,\n",
       "  '8.6': 128,\n",
       "  '8.9': 128,\n",
       "  '9.0': 128}}"
      ]
     },
     "execution_count": 100,
     "metadata": {},
     "output_type": "execute_result"
    }
   ],
   "source": [
    "with open(\"sm_cores.yaml\", \"r\") as file:\n",
    "    sm_cores = yaml.safe_load(file)\n",
    "\n",
    "sm_cores"
   ]
  },
  {
   "cell_type": "code",
   "execution_count": 123,
   "id": "55a6b910-c74f-446a-965f-6a513f6ba064",
   "metadata": {},
   "outputs": [
    {
     "data": {
      "text/plain": [
       "24.7296"
      ]
     },
     "execution_count": 123,
     "metadata": {},
     "output_type": "execute_result"
    }
   ],
   "source": [
    "props = torch.cuda.get_device_properties(0)\n",
    "\n",
    "device_information = {\n",
    "    \"device_name\": torch.cuda.get_device_name(0),\n",
    "    \"number_of_sm\": props.multi_processor_count,\n",
    "    \"power_limit\": get_power_limit(),\n",
    "    \"compute_capability\": (props.major, props.minor),\n",
    "    \"cores_per_sm\": sm_cores['cuda_cores_per_sm'][f\"{props.major}.{props.minor}\"],\n",
    "    \"sm_clock\": get_sm_clock()\n",
    "}\n",
    "device_information[\"total_number_of_cores\"] = device_information[\"number_of_sm\"] * device_information[\"cores_per_sm\"]\n",
    "device_information[\"theoretical_flops\"] = device_information[\"total_number_of_cores\"] * device_information[\"sm_clock\"] * 2 * 1e6\n",
    "device_information['theoretical_flops'] / 1e12"
   ]
  },
  {
   "cell_type": "markdown",
   "id": "d73cb2c7-3b81-490f-b5dc-83fd4dbb9d3c",
   "metadata": {},
   "source": [
    "### Measure flops using events"
   ]
  },
  {
   "cell_type": "code",
   "execution_count": 132,
   "id": "a97dd239-1f85-48e2-9482-baa6d28b8695",
   "metadata": {},
   "outputs": [],
   "source": [
    "def benchmark_gemm(M, N, K, device, dtype, n_warmup, n_repeat):\n",
    "    A = torch.rand(M, N, device = device, requires_grad=False, dtype = dtype)\n",
    "    B = torch.rand(N, K, device = device, requires_grad=False, dtype = dtype)\n",
    "    C = torch.rand(M, K, device = device, requires_grad=False, dtype = dtype)\n",
    "    total_time = np.empty((n_repeat))\n",
    "    flops = np.empty((n_repeat))\n",
    "    start = torch.cuda.Event(enable_timing = True)\n",
    "    end = torch.cuda.Event(enable_timing = True)\n",
    "    \n",
    "    for i in range(n_warmup):\n",
    "        torch.mm(A, B, out=C)\n",
    "        \n",
    "    for i in range(n_repeat):    \n",
    "        start.record()\n",
    "        torch.mm(A, B, out=C)\n",
    "        end.record()\n",
    "        torch.cuda.synchronize()\n",
    "        total_time[i] = start.elapsed_time(end) / 1000 # measured in seconds\n",
    "        \n",
    "        n_ops = 2 * M * N * K\n",
    "        flops[i] = (n_ops / total_time[i] / 1e12)\n",
    "\n",
    "    result = {\n",
    "        \"M\": M,\n",
    "        \"N\": N,\n",
    "        \"K\": K,\n",
    "        \"n_ops\": 2 * M * N * K,\n",
    "        \"time_elapsed\": total_time,\n",
    "        \"flops\": flops,\n",
    "        \"mean_flops\": flops.mean()\n",
    "    }\n",
    "\n",
    "    return result"
   ]
  },
  {
   "cell_type": "code",
   "execution_count": 146,
   "id": "d90f4efe-b40a-4edb-8d9f-e2c4ebdd5645",
   "metadata": {},
   "outputs": [],
   "source": [
    "dim_size = [4 * 2**i for i in range(12)]\n",
    "all_possible_dims = list(product(dim_size, dim_size, dim_size))\n",
    "random.shuffle(all_possible_dims)"
   ]
  },
  {
   "cell_type": "code",
   "execution_count": 175,
   "id": "6bf38c94-8e65-4a8d-be62-96f300bd2489",
   "metadata": {},
   "outputs": [],
   "source": [
    "result = []\n",
    "for test in all_possible_dims[:200]:\n",
    "    result.append(benchmark_gemm(\n",
    "        M = test[0],\n",
    "        N = test[1],\n",
    "        K = test[0],\n",
    "        device = device,\n",
    "        dtype = torch.float32,\n",
    "        n_warmup = 5,\n",
    "        n_repeat = 50))"
   ]
  },
  {
   "cell_type": "code",
   "execution_count": 182,
   "id": "f1eff6dd-d9ce-4bab-95d5-1c260c8e573d",
   "metadata": {},
   "outputs": [],
   "source": [
    "result_copy = result"
   ]
  },
  {
   "cell_type": "code",
   "execution_count": 207,
   "id": "f63b0104-8eca-4470-b90e-46eb14c80062",
   "metadata": {},
   "outputs": [],
   "source": [
    "min_value = 1024\n",
    "result = [r for r in result_copy if (r['M'] >= min_value and r['N'] >= min_value and r['K'] >= min_value) ]"
   ]
  },
  {
   "cell_type": "code",
   "execution_count": 208,
   "id": "d783c56e-cdf3-4ebd-ba1e-d5fa829899a2",
   "metadata": {},
   "outputs": [],
   "source": [
    "n_ops = []\n",
    "flops = []\n",
    "for x in result:\n",
    "    n_ops.append(math.log(x['n_ops']))\n",
    "    flops.append(float(x['mean_flops']))"
   ]
  },
  {
   "cell_type": "code",
   "execution_count": 209,
   "id": "14d429fb-9402-4ffd-9fa1-ec734c1dae93",
   "metadata": {},
   "outputs": [
    {
     "data": {
      "image/png": "[encoded data removed]",
      "text/plain": [
       "<Figure size 800x500 with 1 Axes>"
      ]
     },
     "metadata": {},
     "output_type": "display_data"
    }
   ],
   "source": [
    "plt.figure(figsize=(8,5))\n",
    "plt.plot(n_ops, flops, marker='o', linestyle='')\n",
    "plt.show()"
   ]
  }
 ],
 "metadata": {
  "kernelspec": {
   "display_name": "Python 3 (ipykernel)",
   "language": "python",
   "name": "python3"
  },
  "language_info": {
   "codemirror_mode": {
    "name": "ipython",
    "version": 3
   },
   "file_extension": ".py",
   "mimetype": "text/x-python",
   "name": "python",
   "nbconvert_exporter": "python",
   "pygments_lexer": "ipython3",
   "version": "3.12.3"
  }
 },
 "nbformat": 4,
 "nbformat_minor": 5
}
